{
 "cells": [
  {
   "cell_type": "code",
   "execution_count": 60,
   "metadata": {},
   "outputs": [],
   "source": [
    "from logic import *"
   ]
  },
  {
   "cell_type": "code",
   "execution_count": 61,
   "metadata": {},
   "outputs": [],
   "source": [
    "numberexc = Symbol(\"Number Format Exception\")\n",
    "ranr = Symbol(\"Random r = new Random(Double.parseDouble(x))\")\n",
    "dyzero = Symbol(\"Divided by zero\")\n",
    "yisab = Symbol(\"double y = a / b;\")\n",
    "segfault = Symbol(\"Segmentation Fault\")\n",
    "lowmem = Symbol(\"Low Memory\")\n",
    "newob = Symbol(\"Object o = new Object()\")"
   ]
  },
  {
   "cell_type": "code",
   "execution_count": 62,
   "metadata": {},
   "outputs": [],
   "source": [
    "knowledge = And(\n",
    "    Implication(Not(numberexc), ranr),\n",
    "    Implication(dyzero, Not(yisab)),\n",
    "    Implication(segfault, Not(ranr)),\n",
    "    And(lowmem, numberexc),\n",
    "    Or(segfault, Not(newob))\n",
    ")"
   ]
  },
  {
   "cell_type": "code",
   "execution_count": 63,
   "metadata": {},
   "outputs": [
    {
     "name": "stdout",
     "output_type": "stream",
     "text": [
      "True\n"
     ]
    }
   ],
   "source": [
    "NumberFormatException = model_check(knowledge, numberexc)\n",
    "print(NumberFormatException)"
   ]
  },
  {
   "cell_type": "code",
   "execution_count": 64,
   "metadata": {},
   "outputs": [
    {
     "name": "stdout",
     "output_type": "stream",
     "text": [
      "False\n"
     ]
    }
   ],
   "source": [
    "Dividedbyzero = model_check(knowledge, dyzero)\n",
    "print(Dividedbyzero)"
   ]
  },
  {
   "cell_type": "code",
   "execution_count": 65,
   "metadata": {},
   "outputs": [
    {
     "name": "stdout",
     "output_type": "stream",
     "text": [
      "False\n"
     ]
    }
   ],
   "source": [
    "SegmentationFault = model_check(knowledge, segfault)\n",
    "print(SegmentationFault)"
   ]
  },
  {
   "cell_type": "code",
   "execution_count": 66,
   "metadata": {},
   "outputs": [
    {
     "name": "stdout",
     "output_type": "stream",
     "text": [
      "True\n"
     ]
    }
   ],
   "source": [
    "LowMemory = model_check(knowledge, lowmem)\n",
    "print(LowMemory)"
   ]
  },
  {
   "cell_type": "code",
   "execution_count": 67,
   "metadata": {},
   "outputs": [
    {
     "name": "stdout",
     "output_type": "stream",
     "text": [
      "False\n"
     ]
    }
   ],
   "source": [
    "ObjectonewObject = model_check(knowledge, newob)\n",
    "print(ObjectonewObject)"
   ]
  },
  {
   "cell_type": "code",
   "execution_count": 68,
   "metadata": {},
   "outputs": [],
   "source": [
    "symbols = [numberexc,ranr, dyzero, yisab, segfault, lowmem, newob ]"
   ]
  },
  {
   "cell_type": "code",
   "execution_count": 69,
   "metadata": {},
   "outputs": [],
   "source": [
    "def check_knowledge(knowledge):\n",
    "    for s in symbols:\n",
    "        if model_check(knowledge, s):\n",
    "            print(f\"{s}\")"
   ]
  },
  {
   "cell_type": "code",
   "execution_count": 70,
   "metadata": {},
   "outputs": [
    {
     "name": "stdout",
     "output_type": "stream",
     "text": [
      "Number Format Exception\n",
      "Low Memory\n"
     ]
    }
   ],
   "source": [
    "check_knowledge(knowledge)"
   ]
  }
 ],
 "metadata": {
  "interpreter": {
   "hash": "916dbcbb3f70747c44a77c7bcd40155683ae19c65e1c03b4aa3499c5328201f1"
  },
  "kernelspec": {
   "display_name": "Python 3.8.10 64-bit",
   "language": "python",
   "name": "python3"
  },
  "language_info": {
   "codemirror_mode": {
    "name": "ipython",
    "version": 3
   },
   "file_extension": ".py",
   "mimetype": "text/x-python",
   "name": "python",
   "nbconvert_exporter": "python",
   "pygments_lexer": "ipython3",
   "version": "3.8.10"
  },
  "orig_nbformat": 4
 },
 "nbformat": 4,
 "nbformat_minor": 2
}
